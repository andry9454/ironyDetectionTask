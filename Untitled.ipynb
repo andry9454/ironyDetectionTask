{
 "cells": [
  {
   "cell_type": "code",
   "execution_count": 3,
   "metadata": {},
   "outputs": [
    {
     "name": "stdout",
     "output_type": "stream",
     "text": [
      "[u'\\ud83d', u'\\ude00', u'\\ud83d', u'\\udc4d', u'\\u270c', u'\\ufe0f']\n",
      "😀\n"
     ]
    }
   ],
   "source": [
    "from nltk import word_tokenize\n",
    "from nltk.tokenize import TweetTokenizer\n",
    "tknzr = TweetTokenizer(strip_handles=True)\n",
    "\n",
    "#token = nltk.word_tokenize(X_train[2])\n",
    "print(tknzr.tokenize(\"😀👍✌️\"))\n",
    "h = tknzr.tokenize(\"😀👍✌️\")\n",
    "\n",
    "import emoji\n",
    "\n",
    "for i in \"😀\":\n",
    "    #print i\n",
    "    if i in emoji.UNICODE_EMOJI:\n",
    "        print i\n",
    "\n",
    "print \"😀\""
   ]
  },
  {
   "cell_type": "code",
   "execution_count": null,
   "metadata": {},
   "outputs": [],
   "source": []
  }
 ],
 "metadata": {
  "kernelspec": {
   "display_name": "Python 3",
   "language": "python",
   "name": "python3"
  },
  "language_info": {
   "codemirror_mode": {
    "name": "ipython",
    "version": 2
   },
   "file_extension": ".py",
   "mimetype": "text/x-python",
   "name": "python",
   "nbconvert_exporter": "python",
   "pygments_lexer": "ipython2",
   "version": "2.7.14"
  }
 },
 "nbformat": 4,
 "nbformat_minor": 2
}
